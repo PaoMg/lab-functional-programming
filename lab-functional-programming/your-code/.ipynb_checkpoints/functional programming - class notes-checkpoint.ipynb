{
 "cells": [
  {
   "cell_type": "code",
   "execution_count": 13,
   "metadata": {},
   "outputs": [],
   "source": [
    "#programación funcional: no toque la lista original, hasta que la pase a una función y me de una nueva lista\n",
    "#tendré dos listas, la no afectada y la que ya tiene transformación\n",
    "\n",
    "#CREAR UNA FUNCIÓN\n",
    "#saluda = nombre de la función\n",
    "#argumentos = lo que hay dentro del ()\n",
    "\n",
    "def saluda(nombre):\n",
    "    return print('Hola! {}'.format(nombre)) #las llaves y el .format() son para indicarle que va una variable\n",
    "#opción 2\n",
    "    #return f'Hola {nombre}'\n",
    "    "
   ]
  },
  {
   "cell_type": "code",
   "execution_count": 14,
   "metadata": {},
   "outputs": [
    {
     "name": "stdout",
     "output_type": "stream",
     "text": [
      "Hola! Fabio\n"
     ]
    }
   ],
   "source": [
    "saluda('Fabio')"
   ]
  },
  {
   "cell_type": "code",
   "execution_count": 18,
   "metadata": {},
   "outputs": [
    {
     "name": "stdout",
     "output_type": "stream",
     "text": [
      "30\n",
      "paolapaolapaolapaolapaola\n",
      "[1, 2, 3, 1, 2, 3, 1, 2, 3, 1, 2, 3, 1, 2, 3]\n"
     ]
    }
   ],
   "source": [
    "#ejemplo 2\n",
    "def nada(numero): #numero como variable puede tomar cualquier argumento\n",
    "    return numero * 5\n",
    "\n",
    "a = nada(6) #aqui numero toma el valor de 6\n",
    "print(a)\n",
    "\n",
    "b = nada('paola') #numero toma el valor de 'paola'\n",
    "print(b)\n",
    "\n",
    "c = nada([1,2,3]) #numero toma el valor de una lista[1,2,3]\n",
    "print(c)"
   ]
  },
  {
   "cell_type": "code",
   "execution_count": 22,
   "metadata": {},
   "outputs": [
    {
     "name": "stdout",
     "output_type": "stream",
     "text": [
      "Hola pepe\n",
      "Hello paola\n",
      "No se como saludarte\n"
     ]
    }
   ],
   "source": [
    "#ejemplo 3\n",
    "def hola(nombre='pepe',idioma='ES'): #estoy definiendo las variables desde aqui\n",
    "    if idioma == 'ES':\n",
    "        print('Hola {}'.format(nombre)) #si yo quisiera guardar lo del print, tendría que poner return\n",
    "    elif idioma == 'EN':\n",
    "        print('Hello {}'.format(nombre))\n",
    "    else:\n",
    "        print('No se como saludarte')\n",
    "\n",
    "hola()\n",
    "hola(nombre='paola', idioma='EN')\n",
    "hola('pedro','RH')\n"
   ]
  },
  {
   "cell_type": "code",
   "execution_count": 24,
   "metadata": {},
   "outputs": [],
   "source": [
    "#ejemplo 4\n",
    "def saludo(nombre,idioma): #tengo 2 variables sin definir\n",
    "    if idioma == 'ES':\n",
    "        print('Hola {}'.format(nombre))\n",
    "    elif idioma == 'EN':\n",
    "        print('Hello {}'.format(nombre))\n",
    "    else:\n",
    "        print('No se como saludarte')\n",
    "\n",
    "def saludoVariosIdiomas(q,p=['ES','EN']):\n",
    "    for idioma in p:\n",
    "        saludo(q,idioma)"
   ]
  },
  {
   "cell_type": "code",
   "execution_count": 25,
   "metadata": {},
   "outputs": [
    {
     "name": "stdout",
     "output_type": "stream",
     "text": [
      "Hola cesar\n",
      "Hello cesar\n"
     ]
    }
   ],
   "source": [
    "nombre = 'cesar'\n",
    "saludoVariosIdiomas(nombre)"
   ]
  },
  {
   "cell_type": "code",
   "execution_count": 26,
   "metadata": {},
   "outputs": [
    {
     "name": "stdout",
     "output_type": "stream",
     "text": [
      "Hola cesar\n",
      "Hello cesar\n",
      "No se como saludarte\n",
      "No se como saludarte\n",
      "No se como saludarte\n",
      "No se como saludarte\n"
     ]
    }
   ],
   "source": [
    "saludoVariosIdiomas(nombre,p=['ES','EN',8,'NUEVO',23,'perro'])"
   ]
  },
  {
   "cell_type": "code",
   "execution_count": 27,
   "metadata": {},
   "outputs": [],
   "source": [
    "#ejemplo 5\n",
    "def saludaAmigos(*nombre_1): #el * me dice 'no se cuantos parametros te voy a pasar'\n",
    "    print(nombre_1)\n",
    "    for name in nombre_1:\n",
    "        print('Hola! {}'.format(name))\n",
    "    "
   ]
  },
  {
   "cell_type": "code",
   "execution_count": 28,
   "metadata": {},
   "outputs": [
    {
     "name": "stdout",
     "output_type": "stream",
     "text": [
      "(['zahid', 'rey', 'ponce', 'paty'],)\n",
      "Hola! ['zahid', 'rey', 'ponce', 'paty']\n"
     ]
    }
   ],
   "source": [
    "list_nombres = ['zahid','rey','ponce','paty']\n",
    "saludaAmigos(list_nombres)\n"
   ]
  },
  {
   "cell_type": "code",
   "execution_count": 30,
   "metadata": {},
   "outputs": [
    {
     "name": "stdout",
     "output_type": "stream",
     "text": [
      "('zahid', 'rey', 'ponce', 'paty')\n",
      "Hola! zahid\n",
      "Hola! rey\n",
      "Hola! ponce\n",
      "Hola! paty\n"
     ]
    }
   ],
   "source": [
    "saludaAmigos(*list_nombres)"
   ]
  },
  {
   "cell_type": "code",
   "execution_count": null,
   "metadata": {},
   "outputs": [],
   "source": []
  }
 ],
 "metadata": {
  "kernelspec": {
   "display_name": "Python 3",
   "language": "python",
   "name": "python3"
  },
  "language_info": {
   "codemirror_mode": {
    "name": "ipython",
    "version": 3
   },
   "file_extension": ".py",
   "mimetype": "text/x-python",
   "name": "python",
   "nbconvert_exporter": "python",
   "pygments_lexer": "ipython3",
   "version": "3.8.3"
  }
 },
 "nbformat": 4,
 "nbformat_minor": 4
}
